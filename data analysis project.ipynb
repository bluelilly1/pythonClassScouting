{
 "cells": [
  {
   "cell_type": "code",
   "execution_count": null,
   "metadata": {},
   "outputs": [],
   "source": []
  },
  {
   "cell_type": "code",
   "execution_count": 242,
   "metadata": {},
   "outputs": [
    {
     "name": "stdout",
     "output_type": "stream",
     "text": [
      "These are the only places with a annual payroll higher than 30000000 and the number of estabilishments higher than 800000\n",
      "         State Enterprises     Firms  Estabilishments  Employment  \\\n",
      "53  California  01:  Total  763803.0         941377.0  14896625.0   \n",
      "60  California   08:  <500  757458.0         808213.0   7224945.0   \n",
      "\n",
      "    Annual Payroll  \n",
      "53     955043843.0  \n",
      "60     375608143.0  \n",
      "Both areas are in California, meaning that California has the highest combined payoll and number of estabilishments\n",
      "\n",
      "A certain area in these states have the highest annual payroll, in descending order\n",
      "\n",
      "            State Enterprises     Firms  Estabilishments  Employment  \\\n",
      "53     California  01:  Total  763803.0         941377.0  14896625.0   \n",
      "61     California   09:  500+    6345.0         133164.0   7671680.0   \n",
      "305      New York  01:  Total  465566.0         547034.0   8261269.0   \n",
      "404         Texas  01:  Total  442641.0         592677.0  10580160.0   \n",
      "98        Florida  01:  Total  453218.0         557308.0   8385577.0   \n",
      "60     California   08:  <500  757458.0         808213.0   7224945.0   \n",
      "412         Texas   09:  500+    6095.0         119396.0   5811222.0   \n",
      "313      New York   09:  500+    4777.0          65242.0   4151005.0   \n",
      "134      Illinois  01:  Total  256497.0         321135.0   5497629.0   \n",
      "359  Pennsylvania  01:  Total  230077.0         302772.0   5433660.0   \n",
      "\n",
      "     Annual Payroll  \n",
      "53      955043843.0  \n",
      "61      579435700.0  \n",
      "305     547344236.0  \n",
      "404     544772560.0  \n",
      "98      378219262.0  \n",
      "60      375608143.0  \n",
      "412     332446561.0  \n",
      "313     327605521.0  \n",
      "134     301443641.0  \n",
      "359     270592656.0  \n",
      "\n",
      "         State Enterprises     Firms  Estabilishments  Employment  \\\n",
      "53  California  01:  Total  763803.0         941377.0  14896625.0   \n",
      "\n",
      "    Annual Payroll  \n",
      "53     955043843.0  \n",
      "\n",
      "As you can see #1 with the highest payroll is: California\n",
      "California has the highest payroll and estabilishments combined, but it also has the highest the highest employment rate.\n",
      "The number of people employed in California is 14896625\n",
      "\n",
      "The order changes however, when these top 10 are ranked in descending order in terms of Employment. \n",
      "            State Enterprises     Firms  Estabilishments  Employment  \\\n",
      "313      New York   09:  500+    4777.0          65242.0   4151005.0   \n",
      "359  Pennsylvania  01:  Total  230077.0         302772.0   5433660.0   \n",
      "134      Illinois  01:  Total  256497.0         321135.0   5497629.0   \n",
      "412         Texas   09:  500+    6095.0         119396.0   5811222.0   \n",
      "60     California   08:  <500  757458.0         808213.0   7224945.0   \n",
      "61     California   09:  500+    6345.0         133164.0   7671680.0   \n",
      "305      New York  01:  Total  465566.0         547034.0   8261269.0   \n",
      "98        Florida  01:  Total  453218.0         557308.0   8385577.0   \n",
      "404         Texas  01:  Total  442641.0         592677.0  10580160.0   \n",
      "53     California  01:  Total  763803.0         941377.0  14896625.0   \n",
      "\n",
      "     Annual Payroll  \n",
      "313     327605521.0  \n",
      "359     270592656.0  \n",
      "134     301443641.0  \n",
      "412     332446561.0  \n",
      "60      375608143.0  \n",
      "61      579435700.0  \n",
      "305     547344236.0  \n",
      "98      378219262.0  \n",
      "404     544772560.0  \n",
      "53      955043843.0  \n",
      "\n",
      "Interesting, the topper for highest payroll is now last in the top 10.\n",
      "See? California with an Employment of 14896625.0 is now at the bottom\n"
     ]
    },
    {
     "name": "stderr",
     "output_type": "stream",
     "text": [
      "<ipython-input-242-f5b6504a4140>:44: SettingWithCopyWarning: \n",
      "A value is trying to be set on a copy of a slice from a DataFrame\n",
      "\n",
      "See the caveats in the documentation: https://pandas.pydata.org/pandas-docs/stable/user_guide/indexing.html#returning-a-view-versus-a-copy\n",
      "  data3.sort_values(\"Employment\", axis = 0, inplace = True, kind = 'quicksort', na_position = 'last')\n"
     ]
    }
   ],
   "source": [
    "import pandas as pd\n",
    "import matplotlib.pyplot as plt\n",
    "import numpy as np\n",
    "\n",
    "data = pd.read_csv(\"us_state_totals_2017.csv\", thousands=\",\")\n",
    "data.drop(columns = [\"FIPS CODE\", \"Employment Noise Flag\", \"Annual Payroll Noise Flag\"], inplace = True)\n",
    "\n",
    "data[\"Employment\"] == data[\"Employment\"].astype('float32')\n",
    "data[\"Annual Payroll\"] == data[\"Annual Payroll\"].astype('float32')\n",
    "\n",
    "payroll = 30000000\n",
    "estabilishments = 800000\n",
    "esta = data[(data[\"Annual Payroll\"] > payroll) & (data[\"Estabilishments\"] > estabilishments) & (data[\"State\"] != \"United States\")]\n",
    "print(\"These are the only places with a annual payroll higher than \" + str(payroll) + \" and the number of estabilishments higher than \" + str(estabilishments))\n",
    "print(esta)\n",
    "if len(esta) == 1: \n",
    "        print(\"Looks like there is only state with a annual payroll higher than \" + str(payroll) + \" and the number of estabilishments higher than \" + str(estabilishments))\n",
    "else: print(\"Both areas are in California, meaning that California has the highest combined payoll and number of estabilishments\")\n",
    "state = \"California\"\n",
    "\n",
    "data.sort_values(\"Annual Payroll\", axis = 0, ascending = False, inplace = True, kind = 'heapsort', na_position = 'last')\n",
    "data2 = data[data[\"State\"] != \"United States\"]\n",
    "print()\n",
    "print(\"A certain area in these states have the highest annual payroll, in descending order\")\n",
    "print()\n",
    "print(data2.head(10))\n",
    "data3 = data2.head(10)\n",
    "number_1 = data2.loc[0]\n",
    "number_1_row = 1\n",
    "\n",
    "\n",
    "print()\n",
    "print(data2.head(1))\n",
    "number_1_val = data2.iat[0, 4]\n",
    "number_1_state = str(data2.iat[0, 0])\n",
    "print()\n",
    "print(\"As you can see #1 with the highest payroll is: \" + number_1_state)\n",
    "\n",
    "if state==number_1_state:\n",
    "    print(state + \" has the highest payroll and estabilishments combined, but it also has the highest the highest employment rate.\")\n",
    "print(\"The number of people employed in \" + number_1_state + \" is \" + str(int(number_1_val)))\n",
    "\n",
    "#finding the ranking of the top 10 in terns of Employment\n",
    "data3.sort_values(\"Employment\", axis = 0, inplace = True, kind = 'quicksort', na_position = 'last')\n",
    "print()\n",
    "print(\"The order changes however, when these top 10 are ranked in descending order in terms of Employment. \")\n",
    "print(data3.head(10))\n",
    "col = data3.head(10)\n",
    "row = 1\n",
    "\n",
    "#finding the row the topper is now in\n",
    "print()\n",
    "for i in col[\"Employment\"]:\n",
    "   \n",
    "    if i == float(number_1_val):\n",
    "        if row == number_1_row:\n",
    "            print(\"looks like the topper is still the same though\")\n",
    "        elif row == len(col):\n",
    "            print(\"Interesting, the topper for highest payroll is now last in the top 10.\")\n",
    "            print(\"See? \" + number_1_state + \" with an Employment of \" + str(number_1_val) + \" is now at the bottom\")\n",
    "        else:\n",
    "            difference = row - number_1_row\n",
    "            print(\"Wow, the topper for highest payroll has moved back \" + str(difference) + \" rows.\")\n",
    "            print(\"See? \" + number_1_state + \" with an Employment of \" + str(number_1_val) + \" is now at row #\" + str(difference))\n",
    "        \n",
    "    row += 1\n",
    "   \n",
    "\n",
    "\n",
    "\n",
    "         \n"
   ]
  },
  {
   "cell_type": "code",
   "execution_count": 243,
   "metadata": {},
   "outputs": [
    {
     "name": "stdout",
     "output_type": "stream",
     "text": [
      "\n",
      "As you can see, there is a strong correlation between the number of estabilishments and the number of businesses in a certain area.\n"
     ]
    },
    {
     "data": {
      "image/png": "[encoded data removed]",
      "text/plain": [
       "<Figure size 432x288 with 1 Axes>"
      ]
     },
     "metadata": {
      "needs_background": "light"
     },
     "output_type": "display_data"
    }
   ],
   "source": [
    "business = []\n",
    "estabilishments = []\n",
    "payroll = []\n",
    "for i in range(0, len(data)): \n",
    "    firm = data[\"Firms\"][i]\n",
    "    estabilish = data[\"Estabilishments\"][i]\n",
    "    pay = data[\"Annual Payroll\"][i] \n",
    "    if pd.notna(firm):\n",
    "        firm /= 10**5\n",
    "        firm = int(firm)\n",
    "        business.append(firm)\n",
    "    if pd.notna(estabilish):\n",
    "        estabilish /= 10**2\n",
    "        estabilish = int(estabilish)\n",
    "        estabilishments.append(estabilish)\n",
    "    \n",
    "    if pd.notna(pay) and data[\"State\"][i] != \"United States\":\n",
    "            pay /= 10**5\n",
    "            pay = int(pay)\n",
    "            payroll.append(pay)\n",
    "\n",
    "\n",
    "scatter_plot = plt.scatter(business, estabilishments)\n",
    "plt.xlabel(\"Number of Businesses (100,000s)\")\n",
    "plt.ylabel(\"Number of Estabilishments (100s)\") \n",
    "plt.plot(np.unique(business), np.poly1d(np.polyfit(business, estabilishments, 1))(np.unique(business)))\n",
    "\n",
    "print()\n",
    "print(\"As you can see, there is a strong correlation between the number of estabilishments and the number of businesses in a certain area.\")\n",
    "\n"
   ]
  },
  {
   "cell_type": "code",
   "execution_count": 238,
   "metadata": {},
   "outputs": [
    {
     "name": "stdout",
     "output_type": "stream",
     "text": [
      "The most frequent annual payroll in a certain area of a state is between 0 and 7000000\n"
     ]
    },
    {
     "data": {
      "image/png": "[encoded data removed]",
      "text/plain": [
       "<Figure size 432x288 with 1 Axes>"
      ]
     },
     "metadata": {
      "needs_background": "light"
     },
     "output_type": "display_data"
    }
   ],
   "source": [
    "\n",
    "plt.hist(payroll, bins = 15, color= '#34eb5b', edgecolor = '#4634eb')\n",
    "plt.xlabel(\"Annual Payroll(10,000s)\")\n",
    "plt.ylabel(\"Frequency\")\n",
    "print(\"The most frequent annual payroll in a certain area of a state is between 0 and 7000000.\")"
   ]
  },
  {
   "cell_type": "code",
   "execution_count": null,
   "metadata": {},
   "outputs": [],
   "source": []
  }
 ],
 "metadata": {
  "kernelspec": {
   "display_name": "Python 3",
   "language": "python",
   "name": "python3"
  },
  "language_info": {
   "codemirror_mode": {
    "name": "ipython",
    "version": 3
   },
   "file_extension": ".py",
   "mimetype": "text/x-python",
   "name": "python",
   "nbconvert_exporter": "python",
   "pygments_lexer": "ipython3",
   "version": "3.8.5"
  }
 },
 "nbformat": 4,
 "nbformat_minor": 4
}
